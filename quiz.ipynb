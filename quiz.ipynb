{
 "cells": [
  {
   "cell_type": "markdown",
   "id": "a8c0b098",
   "metadata": {},
   "source": [
    "# Check-in Quiz - Conditionals Lab\n",
    "This notebook holds code used in the check-in quiz for this lab."
   ]
  },
  {
   "cell_type": "code",
   "execution_count": 2,
   "id": "3f7cee9e",
   "metadata": {},
   "outputs": [
    {
     "name": "stderr",
     "output_type": "stream",
     "text": [
      "2021-08-05 11:56:20.876 Python[92726:10015196] ApplePersistenceIgnoreState: Existing state will not be touched. New state will be written to /var/folders/gw/zzdm1k1s4czgdmpvkm7g_0q80000gn/T/org.python.python.savedState\n"
     ]
    }
   ],
   "source": [
    "from turtle import *\n",
    "reset()"
   ]
  },
  {
   "cell_type": "markdown",
   "id": "355c8bb9",
   "metadata": {},
   "source": [
    "## Code trace\n"
   ]
  },
  {
   "cell_type": "code",
   "execution_count": null,
   "id": "ed9402b2",
   "metadata": {},
   "outputs": [],
   "source": [
    "reset()\n",
    "speed(10)\n",
    "\n",
    "for i in range(100):\n",
    "    forward(2)\n",
    "    if i%3 == 0:\n",
    "        right(90)\n",
    "        forward(i)\n",
    "        backward(i)\n",
    "        left(90)\n",
    "    elif i%3 == 1:\n",
    "        left(90)\n",
    "        right(90)\n",
    "    else:\n",
    "        left(90)\n",
    "        forward(i)\n",
    "        backward(i)\n",
    "        right(90)\n",
    "        "
   ]
  },
  {
   "cell_type": "markdown",
   "id": "527e0f2e",
   "metadata": {},
   "source": [
    "## Error catching"
   ]
  },
  {
   "cell_type": "code",
   "execution_count": 19,
   "id": "682a7617",
   "metadata": {},
   "outputs": [],
   "source": [
    "reset()\n",
    "speed(0)\n",
    "\n",
    "# Both the while loop and the for loop accomplish the same thing.\n",
    "\n",
    "# count = 0\n",
    "# while True:\n",
    "#     forward(3) \n",
    "#     right(1)\n",
    "#     count += 1 #count = count + 1\n",
    "#     if count > 360:\n",
    "#         break\n",
    "\n",
    "# the for loop is more conventional in this situation\n",
    "# because it runs for a fixed number of times\n",
    "for i in range(360):\n",
    "    forward(1)\n",
    "    right(1)\n",
    "        "
   ]
  },
  {
   "cell_type": "markdown",
   "id": "d4fc0faa",
   "metadata": {},
   "source": [
    "## Debugging"
   ]
  },
  {
   "cell_type": "code",
   "execution_count": 18,
   "id": "ea8a4cef",
   "metadata": {},
   "outputs": [
    {
     "name": "stdout",
     "output_type": "stream",
     "text": [
      "How many tickets do you want? 10\n",
      "Here are your tickets!\n",
      "There are this many tickets remaining:\n",
      "0\n",
      "Sold out!\n"
     ]
    }
   ],
   "source": [
    "num_tickets = 10\n",
    "\n",
    "while True:\n",
    "    tickets_requested = int(input(\"How many tickets do you want? \"))\n",
    "    \n",
    "    # make sure that request is positive\n",
    "    while tickets_requested < 1:\n",
    "        tickets_requested = int(input(\"Please pick a positive number: \"))\n",
    "    \n",
    "    # make sure not more requested tickets than available\n",
    "    if tickets_requested > num_tickets:\n",
    "        print(\"Sorry, we don't have that many tickets...\")\n",
    "    else:\n",
    "        num_tickets = num_tickets - tickets_requested\n",
    "        print(\"Here are your tickets!\")\n",
    "        \n",
    "    print(\"There are this many tickets remaining:\")\n",
    "    print(num_tickets)\n",
    "    if num_tickets == 0:\n",
    "        break\n",
    "\n",
    "print(\"Sold out!\")"
   ]
  },
  {
   "cell_type": "code",
   "execution_count": null,
   "id": "3001fc74",
   "metadata": {},
   "outputs": [],
   "source": []
  }
 ],
 "metadata": {
  "kernelspec": {
   "display_name": "Python 3 (ipykernel)",
   "language": "python",
   "name": "python3"
  },
  "language_info": {
   "codemirror_mode": {
    "name": "ipython",
    "version": 3
   },
   "file_extension": ".py",
   "mimetype": "text/x-python",
   "name": "python",
   "nbconvert_exporter": "python",
   "pygments_lexer": "ipython3",
   "version": "3.9.1"
  },
  "toc": {
   "base_numbering": 1,
   "nav_menu": {},
   "number_sections": true,
   "sideBar": true,
   "skip_h1_title": false,
   "title_cell": "Table of Contents",
   "title_sidebar": "Contents",
   "toc_cell": false,
   "toc_position": {},
   "toc_section_display": true,
   "toc_window_display": false
  },
  "varInspector": {
   "cols": {
    "lenName": 16,
    "lenType": 16,
    "lenVar": 40
   },
   "kernels_config": {
    "python": {
     "delete_cmd_postfix": "",
     "delete_cmd_prefix": "del ",
     "library": "var_list.py",
     "varRefreshCmd": "print(var_dic_list())"
    },
    "r": {
     "delete_cmd_postfix": ") ",
     "delete_cmd_prefix": "rm(",
     "library": "var_list.r",
     "varRefreshCmd": "cat(var_dic_list()) "
    }
   },
   "types_to_exclude": [
    "module",
    "function",
    "builtin_function_or_method",
    "instance",
    "_Feature"
   ],
   "window_display": false
  }
 },
 "nbformat": 4,
 "nbformat_minor": 5
}
